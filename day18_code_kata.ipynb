{
 "cells": [
  {
   "cell_type": "markdown",
   "metadata": {},
   "source": [
    "# Day 18 Kata: Data Munging\n",
    "\n",
    "A [code katas](http://codekata.com) is a short exercise for practicing particular Python skills.\n",
    "\n",
    "This exercise is adapted from [Kata04](http://codekata.com/kata/kata04-data-munging/), by Dave Thomas.\n",
    "\n",
    "**Due: Monday, November 7 at 12 noon**"
   ]
  },
  {
   "cell_type": "markdown",
   "metadata": {},
   "source": [
    "### Part One: Weather Data\n",
    "\n",
    "In `./data/weather.dat` you’ll find daily weather data for Morristown, NJ for June 2002.\n",
    "Write a function that outputs the day number (column one) with the smallest temperature spread (the maximum temperature is the second column, the minimum the third column)."
   ]
  },
  {
   "cell_type": "code",
   "execution_count": 2,
   "metadata": {
    "collapsed": false,
    "scrolled": true
   },
   "outputs": [
    {
     "name": "stdout",
     "output_type": "stream",
     "text": [
      "14 2.0\n"
     ]
    }
   ],
   "source": [
    "def find_day_with_smallest_spread():\n",
    "    f = open('./data/weather.dat')\n",
    "    mini = 100\n",
    "    mini_index = None \n",
    "    linenum = 0\n",
    "    for line in f:\n",
    "        linenum = linenum + 1 \n",
    "        linenum , line.split()\n",
    "        if linenum >=3 and len(line.split())>7:\n",
    "            x = float(float(line.split()[1].strip(\"*\")) - float(line.split()[2].strip(\"*\")))\n",
    "            if x < mini:\n",
    "                mini_index = line.split()[0]\n",
    "                mini = x\n",
    "    print mini_index , mini\n",
    "\n",
    "\n",
    "find_day_with_smallest_spread()"
   ]
  },
  {
   "cell_type": "markdown",
   "metadata": {},
   "source": [
    "### Part Two: Soccer League Table\n",
    "The file `./data/football.dat` contains the results from the English Premier League for 2001/2.\n",
    "The columns labeled ‘F’ and ‘A’ contain the total number of goals scored for and against each team in that season (so Arsenal scored 79 goals against opponents, and had 36 goals scored against them).\n",
    "Write a function to print the name of the team with the smallest difference in ‘for’ and ‘against’ goals."
   ]
  },
  {
   "cell_type": "code",
   "execution_count": 3,
   "metadata": {
    "collapsed": false,
    "scrolled": true
   },
   "outputs": [
    {
     "name": "stdout",
     "output_type": "stream",
     "text": [
      "Leicester -34.0\n"
     ]
    }
   ],
   "source": [
    "def find_team_with_smallest_difference():\n",
    "    f = open('./data/football.dat')\n",
    "    mini = 100\n",
    "    mini_index = None\n",
    "    linenum = 0\n",
    "    for line in f:\n",
    "        linenum = linenum + 1 \n",
    "        linenum , line.split()\n",
    "        if linenum >=2 and len(line.split())>7:\n",
    "            x = float(float(line.split()[6].strip(\"*\")) - float(line.split()[8].strip(\"*\")))\n",
    "            if x < mini:\n",
    "                mini_index = line.split()[1]\n",
    "                mini = x\n",
    "    print mini_index , mini\n",
    "           \n",
    "    \n",
    "find_team_with_smallest_difference()"
   ]
  },
  {
   "cell_type": "markdown",
   "metadata": {},
   "source": [
    "### Part Three: DRY Fusion\n",
    "“In software engineering, **d**on't **r**epeat **y**ourself (DRY) is a principle of software development, aimed at reducing repetition of information of all kinds” – [Wikipedia](https://en.wikipedia.org/wiki/Don%27t_repeat_yourself).\n",
    "\n",
    "(Compare this to [copy and paste programming](https://en.wikipedia.org/wiki/Copy_and_paste_programming).)\n",
    "\n",
    "Take the two functions written previously and [factor out](https://en.wikipedia.org/wiki/Code_refactoring) as much common code as possible, leaving you with two smaller functions that each call a third function."
   ]
  },
  {
   "cell_type": "code",
   "execution_count": 1,
   "metadata": {
    "collapsed": false
   },
   "outputs": [
    {
     "name": "stdout",
     "output_type": "stream",
     "text": [
      "Leicester -34.0\n"
     ]
    }
   ],
   "source": [
    "def find_smallest(fileloc, starting, indexone, indextwo, index):\n",
    "    f = open(fileloc)\n",
    "    mini = 100\n",
    "    mini_index = None\n",
    "    linenum = 0\n",
    "    for line in f:\n",
    "        linenum = linenum + 1 \n",
    "        linenum , line.split()\n",
    "        if linenum >=starting and len(line.split())>7:\n",
    "            x = float(float(line.split()[indexone].strip(\"*\")) - float(line.split()[indextwo].strip(\"*\")))\n",
    "            if x < mini:\n",
    "                mini_index = line.split()[index]\n",
    "                mini = x\n",
    "    print mini_index , mini\n",
    "    \n",
    "find_smallest('./data/football.dat', 2, 6, 8, 1)"
   ]
  },
  {
   "cell_type": "markdown",
   "metadata": {},
   "source": [
    "## Quick poll\n",
    "\n",
    "About how long did you spend working on this Reading Journal?"
   ]
  },
  {
   "cell_type": "markdown",
   "metadata": {},
   "source": [
    "3"
   ]
  },
  {
   "cell_type": "markdown",
   "metadata": {},
   "source": [
    "## Reading Journal feedback\n",
    "\n",
    "Have any comments on this Reading Journal? Feel free to leave them below and we'll read them when you submit your journal entry. This could include suggestions to improve the exercises, topics you'd like to see covered in class next time, or other feedback.\n",
    "If you have Python questions or run into problems while completing the reading, you should post them to Piazza instead so you can get a quick response before your journal is submitted."
   ]
  },
  {
   "cell_type": "markdown",
   "metadata": {},
   "source": []
  }
 ],
 "metadata": {
  "anaconda-cloud": {},
  "kernelspec": {
   "display_name": "Python 2",
   "language": "python",
   "name": "python2"
  },
  "language_info": {
   "codemirror_mode": {
    "name": "ipython",
    "version": 2
   },
   "file_extension": ".py",
   "mimetype": "text/x-python",
   "name": "python",
   "nbconvert_exporter": "python",
   "pygments_lexer": "ipython2",
   "version": "2.7.6"
  }
 },
 "nbformat": 4,
 "nbformat_minor": 0
}
