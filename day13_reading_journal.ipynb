{
 "cells": [
  {
   "cell_type": "markdown",
   "metadata": {},
   "source": [
    "# Day 13 Reading Journal\n",
    "\n",
    "This journal includes review questions relating to Think Python Chapter 16.\n",
    "\n",
    "**Due: Thursday, October 20 at 12 noon**"
   ]
  },
  {
   "cell_type": "markdown",
   "metadata": {},
   "source": [
    "## Exercise 16-1.\n",
    "Write a function called `print_time` that takes a Time object and prints it in the form `hour:minute:second`.\n",
    "Hint: the format sequence `'%.2d'` prints an integer using at least two digits, including a leading zero if necessary."
   ]
  },
  {
   "cell_type": "code",
   "execution_count": 5,
   "metadata": {
    "collapsed": false
   },
   "outputs": [
    {
     "name": "stdout",
     "output_type": "stream",
     "text": [
      "8 : 13 : 23\n"
     ]
    }
   ],
   "source": [
    "class Time(object):\n",
    "    ''' \n",
    "    HMS\n",
    "    '''  \n",
    "time = Time()\n",
    "time.hour = 8\n",
    "time.minute = 13\n",
    "time.second = 23\n",
    "\n",
    "\n",
    "def print_time(time):\n",
    "    print time.hour, \n",
    "    print \":\",\n",
    "    print time.minute ,\n",
    "    print \":\",\n",
    "    print time.second\n",
    "\n",
    "print_time(time)\n"
   ]
  },
  {
   "cell_type": "markdown",
   "metadata": {},
   "source": []
  },
  {
   "cell_type": "markdown",
   "metadata": {},
   "source": [
    "## Exercise 16-2\n",
    "Write a boolean function called `is_after` that takes two Time objects, `t1` and `t2`, and returns `True` if `t1` follows `t2` chronologically and `False` otherwise.\n",
    "\n",
    "Challenge: don’t use an `if` statement."
   ]
  },
  {
   "cell_type": "code",
   "execution_count": 2,
   "metadata": {
    "collapsed": false
   },
   "outputs": [
    {
     "name": "stdout",
     "output_type": "stream",
     "text": [
      "True\n"
     ]
    }
   ],
   "source": [
    "import time\n",
    "import datetime\n",
    "\n",
    "class Time(object):\n",
    "    def __init__(rolex, hour=12, minute=0, sec=0):\n",
    "        rolex.date = datetime.datetime(hour, minute, sec)\n",
    "        \n",
    "    def mktime(rolex):\n",
    "        return time.mktime(rolex.date.timetuple())\n",
    "        \n",
    "        \n",
    "t1 = Time(1, 3, 15)\n",
    "t2 = Time(1, 3, 1)\n",
    "\n",
    "def is_after(time1, time2):\n",
    "    return time1.mktime() > time2.mktime()\n",
    "    \n",
    "print is_after(t1, t2)"
   ]
  },
  {
   "cell_type": "markdown",
   "metadata": {},
   "source": [
    "## Modifiers\n",
    "Complete the code below, such that it demonstrates:\n",
    "\n",
    "* `increment` behaving as specified\n",
    "* `increment` with incorrect behavior"
   ]
  },
  {
   "cell_type": "code",
   "execution_count": 25,
   "metadata": {
    "collapsed": false
   },
   "outputs": [
    {
     "name": "stdout",
     "output_type": "stream",
     "text": [
      "Original time was: 11:59:30\n",
      "Plus 300 seconds\n",
      "New time is: 12:00:270\n"
     ]
    }
   ],
   "source": [
    "class Time(object):\n",
    "    \"\"\" represents the time of day.\n",
    "    attributes: hour, minute, second\"\"\"\n",
    "\n",
    "time = Time()\n",
    "time.hour = 11\n",
    "time.minute = 59\n",
    "time.second = 30\n",
    "\n",
    "\n",
    "def increment(time, seconds):\n",
    "    print (\"Original time was: %.2d:%.2d:%.2d\"\n",
    "          % (time.hour, time.minute, time.second))\n",
    "\n",
    "    time.second += seconds\n",
    "    if time.second >= 60:\n",
    "        time.second -= 60\n",
    "        time.minute += 1\n",
    "    if time.minute >= 60:\n",
    "        time.minute -= 60\n",
    "        time.hour += 1\n",
    "\n",
    "    print \"Plus %g seconds\" % (seconds)\n",
    "    print \"New time is: %.2d:%.2d:%.2d\" % (time.hour, time.minute, time.second)\n",
    "\n",
    "increment(time, 300)\n"
   ]
  },
  {
   "cell_type": "markdown",
   "metadata": {},
   "source": [
    "## Exercise 16-3 (adapted)\n",
    "Fix `increment`, and demonstrate that has the correct behavior in the case that was a problem above.\n",
    "\n",
    "Unlike the version of this question in Think Python, you are allowed (but not required) to use loops."
   ]
  },
  {
   "cell_type": "code",
   "execution_count": 24,
   "metadata": {
    "collapsed": false
   },
   "outputs": [
    {
     "name": "stdout",
     "output_type": "stream",
     "text": [
      "Original time was: 11:59:30\n",
      "Plus 300 seconds\n",
      "New time is: 12:04:30\n"
     ]
    }
   ],
   "source": [
    "class Time(object):\n",
    "    \"\"\" represents the time of day.\n",
    "    attributes: hour, minute, second\"\"\"\n",
    "\n",
    "time = Time()\n",
    "time.hour = 11\n",
    "time.minute = 59\n",
    "time.second = 30\n",
    "\n",
    "\n",
    "def increment(time, seconds):\n",
    "    print (\"Original time was: %.2d:%.2d:%.2d\"\n",
    "          % (time.hour, time.minute, time.second))\n",
    "\n",
    "    time.second += seconds\n",
    "    if time.second > 59:\n",
    "        quotient, remainder = divmod(time.second, 60)\n",
    "        time.minute += quotient\n",
    "        time.second = remainder\n",
    "    if time.minute > 59:\n",
    "        quotient, remainder = divmod(time.minute, 60)\n",
    "        time.hour += quotient\n",
    "        time.minute = remainder\n",
    "    if time.hour > 12:\n",
    "        time.hour -= 12\n",
    "\n",
    "    print \"Plus %g seconds\" % (seconds)\n",
    "    print \"New time is: %.2d:%.2d:%.2d\" % (time.hour, time.minute, time.second)\n",
    "\n",
    "increment(time, 300)"
   ]
  },
  {
   "cell_type": "markdown",
   "metadata": {},
   "source": [
    "This question was rather difficult and confusing. I'm still having trouble with making and object and then using it later with different inputs. I got help on this question from online. "
   ]
  },
  {
   "cell_type": "markdown",
   "metadata": {},
   "source": [
    "## PyGame Tutorial\n",
    "Add a link to the PyGame tutorial that you studied.\n",
    "\n",
    "Write a sentence (or more) that summarize the main points of the tutorial."
   ]
  },
  {
   "cell_type": "markdown",
   "metadata": {},
   "source": [
    "https://www.youtube.com/playlist?list=PL6gx4Cwl9DGAjkwJocj7vlc_mFU-4wXJq\n",
    "\n",
    "\n",
    "I found a youtube tutorial video that was very helpful. So far I've watched the first 10 videos. It's easier to watch someone do it and explain it at the same time than reading about it. He goes step by step in how he makes a game. I found it very useful."
   ]
  },
  {
   "cell_type": "markdown",
   "metadata": {},
   "source": [
    "# Quick poll\n",
    "About how long did you spend working on this Reading Journal?"
   ]
  },
  {
   "cell_type": "markdown",
   "metadata": {
    "collapsed": true
   },
   "source": [
    "1 + 1.5hr videos"
   ]
  },
  {
   "cell_type": "markdown",
   "metadata": {},
   "source": [
    " "
   ]
  }
 ],
 "metadata": {
  "anaconda-cloud": {},
  "kernelspec": {
   "display_name": "Python 2",
   "language": "python",
   "name": "python2"
  },
  "language_info": {
   "codemirror_mode": {
    "name": "ipython",
    "version": 2
   },
   "file_extension": ".py",
   "mimetype": "text/x-python",
   "name": "python",
   "nbconvert_exporter": "python",
   "pygments_lexer": "ipython2",
   "version": "2.7.6"
  }
 },
 "nbformat": 4,
 "nbformat_minor": 0
}
