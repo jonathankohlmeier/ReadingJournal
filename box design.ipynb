{
 "cells": [
  {
   "cell_type": "code",
   "execution_count": 34,
   "metadata": {
    "collapsed": false,
    "scrolled": true
   },
   "outputs": [
    {
     "name": "stdout",
     "output_type": "stream",
     "text": [
      "+ - - - - + - - - - +\n",
      "|         |         |\n",
      "|         |         |\n",
      "|         |         |\n",
      "|         |         |\n",
      "+ - - - - + - - - - +\n",
      "|         |         |\n",
      "|         |         |\n",
      "|         |         |\n",
      "|         |         |\n",
      "(None, '+ - - - - + - - - - +', None, '+ - - - - + - - - - +', None, '+ - - - - + - - - - +')\n"
     ]
    }
   ],
   "source": [
    "def space(z):\n",
    "    while z > 0:\n",
    "        z = z-1\n",
    "        print \"|         |         |\"\n",
    "\n",
    "def box(y):\n",
    "    \n",
    "    if y == 1:\n",
    "        print \"+ - - - - + - - - - +\"\n",
    "        space(4)\n",
    "        print \"+ - - - - + - - - - +\"\n",
    "        \n",
    "    if y > 1:\n",
    "        print \"+ - - - - + - - - - +\"\n",
    "        space(4)\n",
    "        print \"+ - - - - + - - - - +\"\n",
    "        print  y*(space(4), \"+ - - - - + - - - - +\")\n",
    "    \n",
    "box(3)"
   ]
  },
  {
   "cell_type": "code",
   "execution_count": 48,
   "metadata": {
    "collapsed": false
   },
   "outputs": [
    {
     "name": "stdout",
     "output_type": "stream",
     "text": [
      "+ - - - - + - - - - +\n",
      "|         |         |\n",
      "|         |         |\n",
      "|         |         |\n",
      "|         |         |\n",
      "+ - - - - + - - - - +\n",
      "|         |         |\n",
      "|         |         |\n",
      "|         |         |\n",
      "|         |         |\n",
      "+ - - - - + - - - - +\n",
      "|         |         |\n",
      "|         |         |\n",
      "|         |         |\n",
      "|         |         |\n",
      "+ - - - - + - - - - +\n",
      "|         |         |\n",
      "|         |         |\n",
      "|         |         |\n",
      "|         |         |\n",
      "+ - - - - + - - - - +\n",
      "|         |         |\n",
      "|         |         |\n",
      "|         |         |\n",
      "|         |         |\n",
      "+ - - - - + - - - - +\n",
      "|         |         |\n",
      "|         |         |\n",
      "|         |         |\n",
      "|         |         |\n",
      "+ - - - - + - - - - +\n"
     ]
    }
   ],
   "source": [
    "def space(z):\n",
    "    while z > 0:\n",
    "        z = z-1\n",
    "        print \"|         |         |\"\n",
    "        \n",
    "def grid(x):\n",
    "    while x > 0:\n",
    "        x = x - 1\n",
    "        print \"+ - - - - + - - - - +\"\n",
    "        space(4)\n",
    "    print (\"+ - - - - + - - - - +\")\n",
    "    \n",
    "grid(6)"
   ]
  },
  {
   "cell_type": "code",
   "execution_count": 50,
   "metadata": {
    "collapsed": false
   },
   "outputs": [
    {
     "ename": "SyntaxError",
     "evalue": "invalid syntax (<ipython-input-50-ebc27ba92157>, line 13)",
     "output_type": "error",
     "traceback": [
      "\u001b[0;36m  File \u001b[0;32m\"<ipython-input-50-ebc27ba92157>\"\u001b[0;36m, line \u001b[0;32m13\u001b[0m\n\u001b[0;31m    while y > 0\u001b[0m\n\u001b[0m               ^\u001b[0m\n\u001b[0;31mSyntaxError\u001b[0m\u001b[0;31m:\u001b[0m invalid syntax\n"
     ]
    }
   ],
   "source": [
    "def space(z):\n",
    "    while z > 0:\n",
    "        z = z-1\n",
    "        print \"|         |\"\n",
    "        \n",
    "def grid(x, y):\n",
    "    while x > 0:\n",
    "        x = x - 1\n",
    "        print \"+ - - - - + \"\n",
    "        space(4)\n",
    "    print (\"+ - - - - + \")\n",
    "    \n",
    "    while y > 0\n",
    "        y = y-1\n",
    "        print \n",
    "    \n",
    "grid(6, 3)"
   ]
  },
  {
   "cell_type": "code",
   "execution_count": 62,
   "metadata": {
    "collapsed": false
   },
   "outputs": [
    {
     "name": "stdout",
     "output_type": "stream",
     "text": [
      "+ - - - -\n",
      "|\n",
      "|\n",
      "|\n",
      "|\n",
      "+ - - - -\n",
      "|\n",
      "|\n",
      "|\n",
      "|\n",
      "+ - - - -\n",
      "|\n",
      "|\n",
      "|\n",
      "|\n",
      "+ - - - -\n",
      "+\n",
      "|\n",
      "|\n",
      "|\n",
      "|\n"
     ]
    }
   ],
   "source": [
    "def boxes(y, x):\n",
    "    while y > 0:\n",
    "        y = y-1\n",
    "        print \"+ - - - -\"\n",
    "        print \"|\"\n",
    "        print \"|\"\n",
    "        print \"|\"\n",
    "        print \"|\"\n",
    "    print \"+ - - - -\"\n",
    "\n",
    "    while x > 0:\n",
    "        x = x-1\n",
    "        print \"+\"\n",
    "        print \"|\"\n",
    "        print \"|\"\n",
    "        print \"|\"\n",
    "        print \"|\"\n",
    "boxes(3,1)"
   ]
  },
  {
   "cell_type": "code",
   "execution_count": null,
   "metadata": {
    "collapsed": true
   },
   "outputs": [],
   "source": []
  }
 ],
 "metadata": {
  "kernelspec": {
   "display_name": "Python 2",
   "language": "python",
   "name": "python2"
  },
  "language_info": {
   "codemirror_mode": {
    "name": "ipython",
    "version": 2
   },
   "file_extension": ".py",
   "mimetype": "text/x-python",
   "name": "python",
   "nbconvert_exporter": "python",
   "pygments_lexer": "ipython2",
   "version": "2.7.6"
  }
 },
 "nbformat": 4,
 "nbformat_minor": 1
}
