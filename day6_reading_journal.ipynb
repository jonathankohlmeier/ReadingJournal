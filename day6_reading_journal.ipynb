{
 "cells": [
  {
   "cell_type": "markdown",
   "metadata": {},
   "source": [
    "# Day 6 Reading Journal\n",
    "\n",
    "This journal includes several required exercises, but it is meant to encourage active reading more generally.  You should use the journal to take detailed notes, catalog questions, and explore the content from Think Python deeply.\n",
    "\n",
    "Reading: Think Python Chapters 11.1-4, 14.1-5, 14.7\n",
    "\n",
    "**Due: Thursday, September 23 at 12 noon**"
   ]
  },
  {
   "cell_type": "markdown",
   "metadata": {},
   "source": [
    "## [Chapter 11.1 - 4](http://www.greenteapress.com/thinkpython/html/thinkpython012.html)\n",
    "\n"
   ]
  },
  {
   "cell_type": "markdown",
   "metadata": {},
   "source": [
    "Quick check: In about one sentence using your own words, what is a dictionary?"
   ]
  },
  {
   "cell_type": "markdown",
   "metadata": {},
   "source": [
    "A dictionary is a way of matching up \"items.\" It tells python \"this equals that\" and python stores this information."
   ]
  },
  {
   "cell_type": "markdown",
   "metadata": {
    "is_question": true,
    "problem": "Exercise 6.4"
   },
   "source": [
    "### Exercise 1\n",
    "\n",
    "Dictionaries have a [method called `get`](https://docs.python.org/2/library/stdtypes.html#mapping-types-dict) that takes a key and a default value. If the key appears in the dictionary, `get` returns the corresponding value; otherwise it returns the default value. For example:\n",
    "\n",
    "```\n",
    ">>> h = histogram('a')\n",
    ">>> print h\n",
    "{'a': 1}\n",
    ">>> h.get('a', 0)\n",
    "1\n",
    ">>> h.get('b', 0)\n",
    "0\n",
    "```\n",
    "\n",
    "Use `get` to write histogram more concisely. You should be able to eliminate the `if` statement. Add unit tests for your histogram implementation.\n"
   ]
  },
  {
   "cell_type": "code",
   "execution_count": 4,
   "metadata": {
    "collapsed": false,
    "solution": "Exercise 6.4"
   },
   "outputs": [
    {
     "name": "stdout",
     "output_type": "stream",
     "text": [
      "{'e': 1, 'd': 1, 'h': 1, 'l': 3, 'o': 2, 'w': 1}\n"
     ]
    }
   ],
   "source": [
    "def histogram(s):\n",
    "    d = dict()\n",
    "    for c in s:\n",
    "        if c not in d:\n",
    "            d[c] = 1\n",
    "        else:\n",
    "            d[c] += 1\n",
    "    return d\n",
    "\n",
    "histogram('brontosaurus')\n",
    "\n"
   ]
  },
  {
   "cell_type": "code",
   "execution_count": 5,
   "metadata": {
    "collapsed": false
   },
   "outputs": [
    {
     "name": "stdout",
     "output_type": "stream",
     "text": [
      "{'e': 1, 'd': 1, 'h': 1, 'l': 3, 'o': 2, 'r': 1, 'w': 1}\n"
     ]
    }
   ],
   "source": [
    "\n",
    "def histogram(word):\n",
    "    dictionary = dict()\n",
    "    for character in word:\n",
    "        dictionary[character] = 1 + dictionary.get(character, 0)\n",
    "    return dictionary\n",
    "\n",
    "print histogram('helloworld')"
   ]
  },
  {
   "cell_type": "markdown",
   "metadata": {
    "is_question": true,
    "problem": "Exercise 6.6"
   },
   "source": [
    "### Exercise 2\n",
    "\n",
    "Dictionaries have a method called `keys` that returns the keys of the dicitonary, in no particular order, as a list.\n",
    "\n",
    "Modify `print_hst` to print the keys and their values in alphabetical order."
   ]
  },
  {
   "cell_type": "code",
   "execution_count": 6,
   "metadata": {
    "collapsed": false,
    "scrolled": true,
    "solution": "Exercise 6.6"
   },
   "outputs": [
    {
     "name": "stdout",
     "output_type": "stream",
     "text": [
      "a 1\n",
      "b 1\n",
      "o 2\n",
      "n 1\n",
      "s 2\n",
      "r 2\n",
      "u 2\n",
      "t 1\n"
     ]
    }
   ],
   "source": [
    "def print_hist(h):\n",
    "    for c in h:\n",
    "        print c, h[c]\n",
    "\n",
    "print_hist(histogram('brontosaurus'))"
   ]
  },
  {
   "cell_type": "code",
   "execution_count": 11,
   "metadata": {
    "collapsed": false
   },
   "outputs": [
    {
     "name": "stdout",
     "output_type": "stream",
     "text": [
      "a 2\n",
      "e 2\n",
      "h 2\n",
      "i 1\n",
      "j 1\n",
      "k 1\n",
      "l 1\n",
      "m 1\n",
      "n 2\n",
      "o 2\n",
      "r 1\n",
      "t 1\n"
     ]
    }
   ],
   "source": [
    "def histogram(word):\n",
    "    dictionary = dict()\n",
    "    for letter in word:\n",
    "        dictionary[letter] = 1 + dictionary.get(letter, 0)\n",
    "    return dictionary\n",
    "\n",
    "\n",
    "def print_hist(histogram):\n",
    "    histoList = histogram.keys()\n",
    "    histoList.sort()\n",
    "    for letter in histoList:\n",
    "        print letter, histogram[letter]\n",
    "\n",
    "h = histogram('jonathankohlmeier')\n",
    "print_hist(h)"
   ]
  },
  {
   "cell_type": "markdown",
   "metadata": {},
   "source": [
    "Got help on this code from online"
   ]
  },
  {
   "cell_type": "markdown",
   "metadata": {},
   "source": [
    "## [Chapter 14](http://www.greenteapress.com/thinkpython/html/thinkpython015.html)"
   ]
  },
  {
   "cell_type": "markdown",
   "metadata": {
    "collapsed": true,
    "problem": "Exercise 6.8"
   },
   "source": [
    "## Exercise\n",
    "\n",
    "Create a function that makes a new file. The file should be called `day6_output.txt` and it should be created in the same directory as the reading assignment.\n",
    "\n",
    "You may find the str function useful. str returns a string representation of a Python object; for example, `str(10)` is the string `'10'` (not the number `10`)."
   ]
  },
  {
   "cell_type": "code",
   "execution_count": 21,
   "metadata": {
    "collapsed": true
   },
   "outputs": [],
   "source": [
    "def create_output_file(n):\n",
    "    pass\n",
    "\n",
    "create_output_file(100) # This should create a file containing the text \"100\" (without quotes)."
   ]
  },
  {
   "cell_type": "code",
   "execution_count": 17,
   "metadata": {
    "collapsed": false
   },
   "outputs": [
    {
     "name": "stdout",
     "output_type": "stream",
     "text": [
      "<open file 'day6_output.txt', mode 'w' at 0x7f92cf8a8780>\n"
     ]
    }
   ],
   "source": [
    "fout = open('day6_output.txt', 'w')\n",
    "print fout"
   ]
  },
  {
   "cell_type": "code",
   "execution_count": 18,
   "metadata": {
    "collapsed": true
   },
   "outputs": [],
   "source": [
    "line1 = \"This here's the wattle,\\n\"\n",
    "fout.write(line1)"
   ]
  },
  {
   "cell_type": "code",
   "execution_count": 19,
   "metadata": {
    "collapsed": true
   },
   "outputs": [],
   "source": [
    "line2 = \"the emblem of our land.\\n\"\n",
    "fout.write(line2)"
   ]
  },
  {
   "cell_type": "code",
   "execution_count": 20,
   "metadata": {
    "collapsed": true
   },
   "outputs": [],
   "source": [
    "fout.close()"
   ]
  },
  {
   "cell_type": "code",
   "execution_count": 24,
   "metadata": {
    "collapsed": false
   },
   "outputs": [
    {
     "name": "stdout",
     "output_type": "stream",
     "text": [
      "<open file 'day6_output.txt', mode 'w' at 0x7f92cf8a89c0>\n"
     ]
    }
   ],
   "source": [
    "def create_output_file():\n",
    "    fout = open('day6_output.txt', 'w')\n",
    "    print fout\n",
    "    line1 = \"Hello Wold,\\n\"\n",
    "    fout.write(line1)\n",
    "    line2 = \"My name is Jon.\\n\"\n",
    "    fout.write(line2)\n",
    "    fout.close()\n",
    "    \n",
    "\n",
    "create_output_file()"
   ]
  },
  {
   "cell_type": "markdown",
   "metadata": {},
   "source": [
    "# Quick poll\n",
    "About how long did you spend working on this Reading Journal?"
   ]
  },
  {
   "cell_type": "markdown",
   "metadata": {},
   "source": [
    "1hr"
   ]
  },
  {
   "cell_type": "markdown",
   "metadata": {
    "feedback_response": true
   },
   "source": [
    " "
   ]
  }
 ],
 "metadata": {
  "kernelspec": {
   "display_name": "Python 2",
   "language": "python",
   "name": "python2"
  },
  "language_info": {
   "codemirror_mode": {
    "name": "ipython",
    "version": 2
   },
   "file_extension": ".py",
   "mimetype": "text/x-python",
   "name": "python",
   "nbconvert_exporter": "python",
   "pygments_lexer": "ipython2",
   "version": "2.7.6"
  }
 },
 "nbformat": 4,
 "nbformat_minor": 0
}
