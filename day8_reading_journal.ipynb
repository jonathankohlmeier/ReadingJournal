{
 "cells": [
  {
   "cell_type": "markdown",
   "metadata": {},
   "source": [
    "# Day 8 Reading Journal\n",
    "\n",
    "This journal includes several required exercises, but it is meant to encourage active reading more generally.  You should use the journal to take detailed notes, catalog questions, and explore the content from Think Python deeply.\n",
    "\n",
    "Reading: Think Python Chapter 12\n",
    "\n",
    "**Due: Thursday, September 29 at 12 noon**\n"
   ]
  },
  {
   "cell_type": "markdown",
   "metadata": {},
   "source": [
    "## [Chapter 12](http://www.greenteapress.com/thinkpython/html/thinkpython013.html)"
   ]
  },
  {
   "cell_type": "markdown",
   "metadata": {},
   "source": [
    "### Exercise 2 \n",
    "Exercise 12.2. In this example, ties are broken by comparing words, so words with the same length appear in reverse alphabetical order. For other applications you might want to break ties at ran- dom. Modify this example so that words with the same length appear in random order. Hint: see the random function in the random module."
   ]
  },
  {
   "cell_type": "code",
   "execution_count": 2,
   "metadata": {
    "collapsed": false
   },
   "outputs": [
    {
     "data": {
      "text/plain": [
       "['wonderful', 'tiggers', 'thing', 'jonat', 'about', 'aabbb', 'The']"
      ]
     },
     "execution_count": 2,
     "metadata": {},
     "output_type": "execute_result"
    }
   ],
   "source": [
    "def sort_by_length_revalp(words):\n",
    "    t = []\n",
    "    for word in words:\n",
    "       t.append((len(word), word))\n",
    "    t.sort(reverse=True)\n",
    "    res = []\n",
    "    for length, word in t:\n",
    "        res.append(word)\n",
    "    return res\n",
    "\n",
    "sort_by_length_revalp([\"The\", \"wonderful\", \"thing\", \"about\", \"tiggers\", \"jonat\", \"aabbb\"])"
   ]
  },
  {
   "cell_type": "code",
   "execution_count": 17,
   "metadata": {
    "collapsed": false
   },
   "outputs": [
    {
     "name": "stdout",
     "output_type": "stream",
     "text": [
      "['wonderful', 'tiggers', 'jonat', 'thing', 'about', 'aabbb', 'The']\n"
     ]
    }
   ],
   "source": [
    "from random import *\n",
    "\n",
    "\n",
    "def sort_by_length_random(words):\n",
    "    t = []\n",
    "    for word in words:\n",
    "        t.append((len(word), random(), word))\n",
    "        t.sort(reverse=True)\n",
    "    res = []\n",
    "    for length, dupsort, word in t:\n",
    "        res.append(word)\n",
    "    return res\n",
    "\n",
    "print sort_by_length_random([\"The\", \"wonderful\", \"thing\", \"about\", \"tiggers\", \"jonat\", \"aabbb\"])\n",
    "\n"
   ]
  },
  {
   "cell_type": "markdown",
   "metadata": {},
   "source": [
    "### Exercise 4\n",
    "\n",
    "1. Write a program that reads a word list from a file (see Section 9.1) and prints all the sets of\n",
    "words that are anagrams.\n",
    "Here is an example of what the output might look like:\n",
    "\n",
    "     ['deltas', 'desalt', 'lasted', 'salted', 'slated', 'staled']\n",
    "     ['retainers', 'ternaries']\n",
    "     ['generating', 'greatening']\n",
    "     ['resmelts', 'smelters', 'termless']\n",
    "\n",
    "Hint: you might want to build a dictionary that maps from a set of letters to a list of words that can be spelled with those letters. The question is, how can you represent the set of letters in a way that can be used as a key?"
   ]
  },
  {
   "cell_type": "code",
   "execution_count": 2,
   "metadata": {
    "collapsed": false
   },
   "outputs": [
    {
     "name": "stdout",
     "output_type": "stream",
     "text": [
      "Sample from anagram dict:\n",
      "1) aerrs: ['raser', 'rears']\n",
      "2) adeeoprrsv: ['overprased', 'overspread']\n",
      "3) aerrw: ['rawer', 'warer']\n",
      "4) aerrt: ['rater', 'tarre', 'terra']\n",
      "5) abceorsst: ['cabestros', 'cabrestos']\n",
      "...\n",
      "\n",
      "\n"
     ]
    }
   ],
   "source": [
    "from collections import defaultdict\n",
    "\n",
    "with open('words.txt', 'r') as fd:\n",
    "    words = fd.read().splitlines()\n",
    "\n",
    "\n",
    "def make_anagram_dict(word_list):\n",
    "    result = defaultdict(list)\n",
    "    for word in word_list:\n",
    "        fp = ''.join(sorted(word))\n",
    "        result[fp].append(word)\n",
    "\n",
    "    result = {fp: result[fp] for fp in result if len(result[fp]) > 1}\n",
    "    return result\n",
    "\n",
    "\n",
    "anagrams = make_anagram_dict(words)\n",
    "\n",
    "\n",
    "def print_anagrams(anagrams):\n",
    "    fp = (fp for fp in anagrams)\n",
    "\n",
    "    print \"Sample from anagram dict:\"\n",
    "    for i in range(1, 6):\n",
    "        # call once, print twice\n",
    "        fp_next = fp.next()\n",
    "        print \"%s) %s:\" % (i, fp_next), anagrams[fp_next]\n",
    "\n",
    "    print \"...\"\n",
    "    print \"\\n\"\n",
    "\n",
    "\n",
    "print_anagrams(anagrams)"
   ]
  },
  {
   "cell_type": "markdown",
   "metadata": {},
   "source": [
    "2\\. Modify the previous program so that it prints the largest set of anagrams first, followed by the second largest set, and so on."
   ]
  },
  {
   "cell_type": "code",
   "execution_count": 2,
   "metadata": {
    "collapsed": false
   },
   "outputs": [
    {
     "name": "stdout",
     "output_type": "stream",
     "text": [
      "Most anagrams:\n",
      "1) 11 ['alerts', 'alters', 'artels', 'estral', 'laster', 'ratels', 'salter', 'slater', 'staler', 'stelar', 'talers']\n",
      "2) 11 ['apers', 'asper', 'pares', 'parse', 'pears', 'prase', 'presa', 'rapes', 'reaps', 'spare', 'spear']\n",
      "3) 10 ['least', 'setal', 'slate', 'stale', 'steal', 'stela', 'taels', 'tales', 'teals', 'tesla']\n",
      "4) 9 ['capers', 'crapes', 'escarp', 'pacers', 'parsec', 'recaps', 'scrape', 'secpar', 'spacer']\n",
      "5) 9 ['estrin', 'inerts', 'insert', 'inters', 'niters', 'nitres', 'sinter', 'triens', 'trines']\n",
      "...\n",
      "\n",
      "\n"
     ]
    }
   ],
   "source": [
    "def sort_anagrams(anagrams):\n",
    "    anagrams_lists = []\n",
    "    for fp in anagrams:\n",
    "        anagrams_lists.append(anagrams[fp])\n",
    "    anagrams_lists.sort(key=len, reverse=True)\n",
    "\n",
    "    print \"Most anagrams:\"\n",
    "    for i in range(0, 5):\n",
    "        print \"%s) %d\" % ((i + 1), len(anagrams_lists[i])), anagrams_lists[i]\n",
    "    print \"...\"\n",
    "    print \"\\n\"\n",
    "\n",
    "\n",
    "sort_anagrams(anagrams)"
   ]
  },
  {
   "cell_type": "markdown",
   "metadata": {},
   "source": [
    "3\\. In Scrabble a “bingo” is when you play all seven tiles in your rack, along with a letter on the board, to form an eight-letter word. What set of 8 letters forms the most possible bingos? Hint: there are seven."
   ]
  },
  {
   "cell_type": "code",
   "execution_count": 3,
   "metadata": {
    "collapsed": false
   },
   "outputs": [
    {
     "name": "stdout",
     "output_type": "stream",
     "text": [
      "Top Bingos:\n",
      "1) 7: aeginrst ['angriest', 'astringe', 'ganister', 'gantries', 'granites', 'ingrates', 'rangiest']\n",
      "2) 6: aeinprst ['painters', 'pantries', 'pertains', 'pinaster', 'pristane', 'repaints']\n",
      "3) 6: aeegnrst ['estrange', 'grantees', 'greatens', 'negaters', 'reagents', 'sergeant']\n",
      "4) 6: aegilnrs ['aligners', 'engrails', 'nargiles', 'realigns', 'signaler', 'slangier']\n",
      "5) 6: aegilnrt ['alerting', 'altering', 'integral', 'relating', 'tanglier', 'triangle']\n",
      "...\n",
      "\n",
      "\n"
     ]
    }
   ],
   "source": [
    "def find_bingos(anagrams):\n",
    "    candidates = [anagrams[key] for key in anagrams if len(key) == 8]\n",
    "    candidates.sort(key=len, reverse=True)\n",
    "\n",
    "    print \"Top Bingos:\"\n",
    "    for i in range(0, 5):\n",
    "        fp = ''.join(sorted(candidates[i][0]))\n",
    "        print \"%s) %d: %s\" % ((i + 1), len(candidates[i]), fp), candidates[i]\n",
    "\n",
    "    print \"...\"\n",
    "    print \"\\n\"\n",
    "\n",
    "find_bingos(anagrams)"
   ]
  },
  {
   "cell_type": "markdown",
   "metadata": {},
   "source": [
    "# Quick poll\n",
    "About how long did you spend working on this Reading Journal?"
   ]
  },
  {
   "cell_type": "markdown",
   "metadata": {
    "collapsed": true
   },
   "source": [
    "2hrs but wasnt sure what I was doing. Got help from online. Tried to understad the code they wrote."
   ]
  },
  {
   "cell_type": "markdown",
   "metadata": {},
   "source": [
    " "
   ]
  }
 ],
 "metadata": {
  "anaconda-cloud": {},
  "kernelspec": {
   "display_name": "Python 2",
   "language": "python",
   "name": "python2"
  },
  "language_info": {
   "codemirror_mode": {
    "name": "ipython",
    "version": 2
   },
   "file_extension": ".py",
   "mimetype": "text/x-python",
   "name": "python",
   "nbconvert_exporter": "python",
   "pygments_lexer": "ipython2",
   "version": "2.7.6"
  }
 },
 "nbformat": 4,
 "nbformat_minor": 0
}
