{
 "cells": [
  {
   "cell_type": "markdown",
   "metadata": {},
   "source": [
    "# Day 4 Reading Journal\n",
    "\n",
    "This journal includes several required exercises, but it is meant to encourage active reading more generally.  You should use the journal to take detailed notes, catalog questions, and explore the content from Think Python deeply.\n",
    "\n",
    "Reading: Think Python Chapter 10\n",
    "\n",
    "**Due: Thursday, February 4 at 12 noon**\n",
    "\n"
   ]
  },
  {
   "cell_type": "markdown",
   "metadata": {},
   "source": [
    "## [Chapter 10](http://www.greenteapress.com/thinkpython/html/thinkpython011.html)\n",
    "\n",
    "You may want to review [state diagrams in Chapter 2](http://www.greenteapress.com/thinkpython/html/thinkpython003.html#toc13). [Python Tutor](http://pythontutor.com/) is also helpful for visualizing the state of your program.\n",
    "\n"
   ]
  },
  {
   "cell_type": "markdown",
   "metadata": {},
   "source": [
    "### Exercise 4  \n",
    "Write a function called `middle` that takes a list and returns a new list that contains all but the first and last elements. So `middle([1,2,3,4])` should return `[2,3]`."
   ]
  },
  {
   "cell_type": "code",
   "execution_count": 17,
   "metadata": {
    "collapsed": false
   },
   "outputs": [
    {
     "data": {
      "text/plain": [
       "[2, 3, 4]"
      ]
     },
     "execution_count": 17,
     "metadata": {},
     "output_type": "execute_result"
    }
   ],
   "source": [
    " def middle(x):\n",
    "        return x[1:-1]\n",
    "    \n",
    "middle([1, 2, 3, 4, 5])"
   ]
  },
  {
   "cell_type": "markdown",
   "metadata": {},
   "source": [
    "### Exercise 5  \n",
    "Write a function called `chop` that takes a list, modifies it by removing the first and last elements, and returns `None`.\n",
    "\n",
    "What is the difference between `middle` and `chop`? Sketch out the program state or take a look at each in Python Tutor."
   ]
  },
  {
   "cell_type": "code",
   "execution_count": 15,
   "metadata": {
    "collapsed": false
   },
   "outputs": [
    {
     "data": {
      "text/plain": [
       "'None'"
      ]
     },
     "execution_count": 15,
     "metadata": {},
     "output_type": "execute_result"
    }
   ],
   "source": [
    "def chop(x):\n",
    "    del x[:1]\n",
    "    del x[-1:]\n",
    "    return 'None'\n",
    "\n",
    "chop([1,2,3,4,5,6])\n",
    "\n"
   ]
  },
  {
   "cell_type": "markdown",
   "metadata": {},
   "source": [
    "both functions do just about the same thing but middle() returns the result whie chop() only completes the action in the background and does not print the result."
   ]
  },
  {
   "cell_type": "markdown",
   "metadata": {},
   "source": [
    "### Exercise 7  \n",
    "Two words are anagrams if you can rearrange the letters from one to spell the other. Write a function called `is_anagram` that takes two strings and returns `True` if they are anagrams."
   ]
  },
  {
   "cell_type": "code",
   "execution_count": 23,
   "metadata": {
    "collapsed": false
   },
   "outputs": [
    {
     "name": "stdout",
     "output_type": "stream",
     "text": [
      "True\n"
     ]
    }
   ],
   "source": [
    "string1 = \"i_am_lord_voldemort\"\n",
    "string2 = \"tom_marvolo__riddle\"\n",
    "\n",
    "\n",
    "def is_anagram(string1, string2):\n",
    "    print sorted(string1) == sorted(string2)\n",
    "\n",
    "is_anagram(string1, string2)"
   ]
  },
  {
   "cell_type": "markdown",
   "metadata": {},
   "source": [
    "doesnt do well with spaces or capital letters because it is looking for exact matches."
   ]
  },
  {
   "cell_type": "markdown",
   "metadata": {},
   "source": [
    "### Exercise 8  \n",
    "The (so-called) Birthday Paradox:\n",
    "1. Write a function called `has_duplicates` that takes a list and returns `True` if there is any element that appears more than once. It should not modify the original list.\n",
    "2. If there are 23 students in your class, what are the chances that two of you have the same birthday? You can estimate this probability by generating random samples of 23 birthdays and checking for matches. Hint: you can generate random birthdays with the randint function in the [random module](https://docs.python.org/2/library/random.html).\n",
    "\n",
    "You can read about this problem at http://en.wikipedia.org/wiki/Birthday_paradox, and you can download Allen's solution from http://thinkpython.com/code/birthday.py."
   ]
  },
  {
   "cell_type": "code",
   "execution_count": 25,
   "metadata": {
    "collapsed": false
   },
   "outputs": [
    {
     "name": "stdout",
     "output_type": "stream",
     "text": [
      "True\n",
      "False\n",
      "True\n"
     ]
    }
   ],
   "source": [
    "def has_duplicates(inList):\n",
    "    compareList=inList[:]\n",
    "    compareList.sort()\n",
    "    for i in range(len(compareList)-1):\n",
    "        if compareList[i] == compareList[i+1]:\n",
    "            return True\n",
    "    return False\n",
    "\n",
    "if __name__ == '__main__':\n",
    "    list1 = ['a','a','b','c','d','e','f']\n",
    "    list2 = ['a','b','c','d']\n",
    "    list3 = ['ok','ok']\n",
    "\n",
    "    mainlist = [list1,list2,list3]\n",
    "    for i in mainlist:\n",
    "        print has_duplicates(i)"
   ]
  },
  {
   "cell_type": "markdown",
   "metadata": {},
   "source": [
    "confusing code^"
   ]
  },
  {
   "cell_type": "code",
   "execution_count": 26,
   "metadata": {
    "collapsed": false
   },
   "outputs": [
    {
     "name": "stdout",
     "output_type": "stream",
     "text": [
      "After 1000 simulations\n",
      "with 23 students\n",
      "there were 490 simulations with at least one match\n"
     ]
    }
   ],
   "source": [
    "\n",
    "\n",
    "import random\n",
    "\n",
    "def has_duplicates(t):\n",
    "    \"\"\"Returns True if any element appears more than once in (t),\n",
    "    False otherwise.\"\"\"\n",
    "    s = t[:]\n",
    "    s.sort()\n",
    "    for i in range(len(s)-1):\n",
    "        if s[i] == s[i+1]:\n",
    "            return True\n",
    "    return False\n",
    "\n",
    "\n",
    "def random_bdays(n):\n",
    "    \"\"\"Returns a list of integers between 1 and 365, with length (n).\"\"\"\n",
    "    t = []\n",
    "    for i in range(n):\n",
    "        bday = random.randint(1, 365)\n",
    "        t.append(bday)\n",
    "    return t\n",
    "\n",
    "\n",
    "def count_matches(students, samples):\n",
    "    \"\"\"Generates (samples) samples of (students) students, and counts\n",
    "    how many of them have at least one pair of students with the same bday.\"\"\"\n",
    "    count = 0\n",
    "    for i in range(samples):\n",
    "        t = random_bdays(students)\n",
    "        if has_duplicates(t):\n",
    "            count += 1\n",
    "    return count\n",
    "\n",
    "\"\"\"run the birthday simulation 1000 times and print the number of matches\"\"\"\n",
    "num_students = 23\n",
    "num_simulations = 1000\n",
    "count = count_matches(num_students, num_simulations)\n",
    "\n",
    "print 'After %d simulations' % num_simulations\n",
    "print 'with %d students' % num_students\n",
    "print 'there were %d simulations with at least one match' % count"
   ]
  },
  {
   "cell_type": "markdown",
   "metadata": {},
   "source": [
    "### Challenge: Exercise 11 (optional)\n",
    "\n",
    "You should read [Chapter 9.1](http://www.greenteapress.com/thinkpython/html/thinkpython010.html) and do Exercise 1 first.\n",
    "\n",
    "To check whether a word is in the word list, you could use the `in` operator, but it would be relatively slow because it searches through the words in order (try it).\n",
    "\n",
    "Because the words are in alphabetical order, we can speed things up with a bisection search (also known as binary search), which is similar to what you do when you look a word up in the dictionary. You start in the middle and check to see whether the word you are looking for comes before the word in the middle of the list. If so, then you search the first half of the list the same way. Otherwise you search the second half.\n",
    "\n",
    "Either way, you cut the remaining search space in half. If the word list has 113,809 words, it will take about 17 steps to find the word or conclude that it’s not there.\n",
    "\n",
    "Write a function called `bisect` that takes a sorted list and a target value and returns the index of the value in the list, if it’s there, or `None` if it’s not.\n",
    "\n",
    "Or you could read the documentation of the `bisect` module and use that! Solution: http://thinkpython.com/code/inlist.py."
   ]
  },
  {
   "cell_type": "code",
   "execution_count": 5,
   "metadata": {
    "collapsed": false
   },
   "outputs": [
    {
     "name": "stdout",
     "output_type": "stream",
     "text": [
      "alien in list True\n",
      "allen in list False\n"
     ]
    },
    {
     "data": {
      "text/plain": [
       "True"
      ]
     },
     "execution_count": 5,
     "metadata": {},
     "output_type": "execute_result"
    }
   ],
   "source": [
    "from bisect import bisect_left\n",
    "\n",
    "\n",
    "def make_word_list():\n",
    "    \"\"\"Reads lines from a file and builds a list using append.\"\"\"\n",
    "    word_list = []\n",
    "    fin = open('words.txt')\n",
    "    for line in fin:\n",
    "        word = line.strip()\n",
    "        word_list.append(word)\n",
    "    return word_list\n",
    "\n",
    "\n",
    "def in_bisect(word_list, word):\n",
    "    \"\"\"Checks whether a word is in a list using bisection search.\n",
    "\n",
    "    Precondition: the words in the list are sorted\n",
    "\n",
    "    word_list: list of strings\n",
    "    word: string\n",
    "    \"\"\"\n",
    "    i = bisect_left(word_list, word)\n",
    "    if i != len(word_list) and word_list[i] == word:\n",
    "        return True\n",
    "    else:\n",
    "        return False\n",
    "\n",
    "\n",
    "if __name__ == '__main__':\n",
    "    word_list = make_word_list()\n",
    "    \n",
    "    for word in ['alien', 'allen']:\n",
    "        print word, 'in list', in_bisect(word_list, word)\n",
    "\n",
    "in_bisect(word_list, 'hello')"
   ]
  },
  {
   "cell_type": "markdown",
   "metadata": {},
   "source": [
    "## Reading Journal feedback\n",
    "\n",
    "Have any comments on this Reading Journal? Feel free to leave them below and we'll read them when you submit your journal entry. This could include suggestions to improve the exercises, topics you'd like to see covered in class next time, or other feedback.\n",
    "\n",
    "If you have Python questions or run into problems while completing the reading, you should post them to Piazza instead so you can get a quick response before your journal is submitted."
   ]
  },
  {
   "cell_type": "markdown",
   "metadata": {},
   "source": [
    " "
   ]
  }
 ],
 "metadata": {
  "kernelspec": {
   "display_name": "Python 2",
   "language": "python",
   "name": "python2"
  },
  "language_info": {
   "codemirror_mode": {
    "name": "ipython",
    "version": 2
   },
   "file_extension": ".py",
   "mimetype": "text/x-python",
   "name": "python",
   "nbconvert_exporter": "python",
   "pygments_lexer": "ipython2",
   "version": "2.7.6"
  }
 },
 "nbformat": 4,
 "nbformat_minor": 0
}
